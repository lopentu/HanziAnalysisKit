{
 "cells": [
  {
   "cell_type": "markdown",
   "metadata": {},
   "source": [
    "### Corpus Building"
   ]
  },
  {
   "cell_type": "code",
   "execution_count": 15,
   "metadata": {},
   "outputs": [],
   "source": [
    "from textbook import build_corpus\n",
    "\n",
    "# Path to the CSV file containing text data\n",
    "csv_file = './data/教科書課文.csv'\n",
    "\n",
    "# Name of the output folder\n",
    "folder = \"textbook_corpus\"\n",
    "\n",
    "# Building the corpus\n",
    "build_corpus(csv_file, folder)"
   ]
  },
  {
   "cell_type": "markdown",
   "metadata": {},
   "source": [
    "### Corpus Reading and Concordancer Initialization"
   ]
  },
  {
   "cell_type": "code",
   "execution_count": 16,
   "metadata": {},
   "outputs": [
    {
     "name": "stdout",
     "output_type": "stream",
     "text": [
      "Indexing corpus for text retrival...\n"
     ]
    },
    {
     "name": "stderr",
     "output_type": "stream",
     "text": [
      "100%|██████████| 8/8 [00:00<00:00, 12758.34it/s]\n"
     ]
    },
    {
     "name": "stdout",
     "output_type": "stream",
     "text": [
      "Indexing corpus for concordance search...\n"
     ]
    },
    {
     "name": "stderr",
     "output_type": "stream",
     "text": [
      "100%|██████████| 8/8 [00:00<00:00, 405.56it/s]\n"
     ]
    }
   ],
   "source": [
    "from hgct import PlainTextReader, Concordancer, CompoAnalysis, Dispersion\n",
    "\n",
    "# Initialize a PlainTextReader with the directory containing the corpus\n",
    "corpus = PlainTextReader(\n",
    "    dir_path = \"textbook_corpus/\"\n",
    "    ).corpus\n",
    "\n",
    "# Initialize a Concordancer with the corpus for performing text searches\n",
    "c = Concordancer(corpus)"
   ]
  },
  {
   "cell_type": "markdown",
   "metadata": {},
   "source": [
    "### Utility Function for CQL Search"
   ]
  },
  {
   "cell_type": "code",
   "execution_count": 17,
   "metadata": {},
   "outputs": [],
   "source": [
    "def get_first_n(cql, n=10, left=5, right=5):\n",
    "    out = []\n",
    "    for i, r in enumerate(c.cql_search(cql, left=left, right=right)):\n",
    "        if i == n: break\n",
    "        out.append(r)\n",
    "    return out"
   ]
  },
  {
   "cell_type": "markdown",
   "metadata": {},
   "source": [
    "### Search by Character"
   ]
  },
  {
   "cell_type": "code",
   "execution_count": 18,
   "metadata": {},
   "outputs": [
    {
     "data": {
      "text/plain": [
       "'Top 5 results for the search query \\'[char=\"窗\"] [char=\"[一-窗]\"]\\':'"
      ]
     },
     "metadata": {},
     "output_type": "display_data"
    },
    {
     "data": {
      "text/plain": [
       "[<Concord 門、客廳和{窗戶}旁貼上年畫>,\n",
       " <Concord 水匠來，把{窗子}用甎頭堵上>,\n",
       " <Concord 子，就指著{窗子}說：「這兩>,\n",
       " <Concord 大門上、紙{窗旁}，幾乎都貼>,\n",
       " <Concord 要把這兩個{窗子}堵起來。」>]"
      ]
     },
     "metadata": {},
     "output_type": "display_data"
    },
    {
     "data": {
      "text/plain": [
       "'Relevant information of the matching result:'"
      ]
     },
     "metadata": {},
     "output_type": "display_data"
    },
    {
     "data": {
      "text/plain": [
       "{'left': '門、客廳和',\n",
       " 'keyword': '窗戶',\n",
       " 'right': '旁貼上年畫',\n",
       " 'position': (3, 11, 0, 25),\n",
       " 'meta': {'id': '4S/90-1-有趣的年畫.txt',\n",
       "  'time': {'label': '教科書課文 - 4下', 'ord': 4, 'year': ['90', '88', '69']},\n",
       "  'text': {'lesson': '1', 'title': '有趣的年畫', 'year': '90'}},\n",
       " 'captureGroups': {}}"
      ]
     },
     "metadata": {},
     "output_type": "display_data"
    }
   ],
   "source": [
    "cql = \"\"\"\n",
    "[char=\"窗\"] [char=\"[一-窗]\"] \n",
    "\"\"\"\n",
    "results = get_first_n(cql, n=5)\n",
    "display(\"Top 5 results for the search query '[char=\\\"窗\\\"] [char=\\\"[一-窗]\\\"]':\", results)  \n",
    "\n",
    "result_1 = results[0]\n",
    "display(\"Relevant information of the matching result:\", result_1.data)  "
   ]
  },
  {
   "cell_type": "markdown",
   "metadata": {},
   "source": [
    "### Search by Character Components"
   ]
  },
  {
   "cell_type": "code",
   "execution_count": 19,
   "metadata": {},
   "outputs": [
    {
     "data": {
      "text/plain": [
       "'List of all Kangxi radicals present in the characters of the corpus:'"
      ]
     },
     "metadata": {},
     "output_type": "display_data"
    },
    {
     "data": {
      "text/plain": [
       "{'',\n",
       " '一',\n",
       " '丨',\n",
       " '丶',\n",
       " '丿',\n",
       " '乙',\n",
       " '亅',\n",
       " '二',\n",
       " '亠',\n",
       " '人',\n",
       " '儿',\n",
       " '入',\n",
       " '八',\n",
       " '冂',\n",
       " '冖',\n",
       " '冫',\n",
       " '几',\n",
       " '凵',\n",
       " '刀',\n",
       " '力',\n",
       " '勹',\n",
       " '匕',\n",
       " '匚',\n",
       " '匸',\n",
       " '十',\n",
       " '卜',\n",
       " '卩',\n",
       " '厂',\n",
       " '厶',\n",
       " '又',\n",
       " '口',\n",
       " '囗',\n",
       " '土',\n",
       " '士',\n",
       " '夊',\n",
       " '夕',\n",
       " '大',\n",
       " '女',\n",
       " '子',\n",
       " '宀',\n",
       " '寸',\n",
       " '小',\n",
       " '尢',\n",
       " '尸',\n",
       " '屮',\n",
       " '山',\n",
       " '巛',\n",
       " '工',\n",
       " '己',\n",
       " '巾',\n",
       " '干',\n",
       " '幺',\n",
       " '广',\n",
       " '廴',\n",
       " '廾',\n",
       " '弋',\n",
       " '弓',\n",
       " '彡',\n",
       " '彳',\n",
       " '心',\n",
       " '戈',\n",
       " '戶',\n",
       " '手',\n",
       " '支',\n",
       " '攴',\n",
       " '文',\n",
       " '斗',\n",
       " '斤',\n",
       " '方',\n",
       " '无',\n",
       " '日',\n",
       " '曰',\n",
       " '月',\n",
       " '木',\n",
       " '欠',\n",
       " '止',\n",
       " '歹',\n",
       " '殳',\n",
       " '毋',\n",
       " '比',\n",
       " '毛',\n",
       " '氏',\n",
       " '气',\n",
       " '水',\n",
       " '火',\n",
       " '爪',\n",
       " '父',\n",
       " '爻',\n",
       " '爿',\n",
       " '片',\n",
       " '牙',\n",
       " '牛',\n",
       " '犬',\n",
       " '玄',\n",
       " '玉',\n",
       " '瓜',\n",
       " '瓦',\n",
       " '甘',\n",
       " '生',\n",
       " '用',\n",
       " '田',\n",
       " '疋',\n",
       " '疒',\n",
       " '癶',\n",
       " '白',\n",
       " '皮',\n",
       " '皿',\n",
       " '目',\n",
       " '矛',\n",
       " '矢',\n",
       " '石',\n",
       " '示',\n",
       " '禸',\n",
       " '禾',\n",
       " '穴',\n",
       " '立',\n",
       " '竹',\n",
       " '米',\n",
       " '糸',\n",
       " '缶',\n",
       " '网',\n",
       " '羊',\n",
       " '羽',\n",
       " '老',\n",
       " '而',\n",
       " '耒',\n",
       " '耳',\n",
       " '聿',\n",
       " '肉',\n",
       " '臣',\n",
       " '自',\n",
       " '至',\n",
       " '臼',\n",
       " '舌',\n",
       " '舛',\n",
       " '舟',\n",
       " '艮',\n",
       " '色',\n",
       " '艸',\n",
       " '虍',\n",
       " '虫',\n",
       " '血',\n",
       " '行',\n",
       " '衣',\n",
       " '襾',\n",
       " '見',\n",
       " '角',\n",
       " '言',\n",
       " '谷',\n",
       " '豆',\n",
       " '豕',\n",
       " '豸',\n",
       " '貝',\n",
       " '赤',\n",
       " '走',\n",
       " '足',\n",
       " '身',\n",
       " '車',\n",
       " '车',\n",
       " '辛',\n",
       " '辰',\n",
       " '辵',\n",
       " '邑',\n",
       " '酉',\n",
       " '釆',\n",
       " '里',\n",
       " '金',\n",
       " '長',\n",
       " '門',\n",
       " '阜',\n",
       " '隹',\n",
       " '雨',\n",
       " '靑',\n",
       " '非',\n",
       " '面',\n",
       " '革',\n",
       " '韋',\n",
       " '音',\n",
       " '頁',\n",
       " '風',\n",
       " '飛',\n",
       " '食',\n",
       " '首',\n",
       " '香',\n",
       " '馬',\n",
       " '骨',\n",
       " '高',\n",
       " '髟',\n",
       " '鬥',\n",
       " '鬼',\n",
       " '魚',\n",
       " '鳥',\n",
       " '鹿',\n",
       " '麥',\n",
       " '麻',\n",
       " '黃',\n",
       " '黍',\n",
       " '黑',\n",
       " '鼎',\n",
       " '鼓',\n",
       " '鼠',\n",
       " '鼻',\n",
       " '齊',\n",
       " '齒',\n",
       " '龍',\n",
       " '龜'}"
      ]
     },
     "metadata": {},
     "output_type": "display_data"
    },
    {
     "data": {
      "text/plain": [
       "\"Top 5 results for characters containing the radical '穴':\""
      ]
     },
     "metadata": {},
     "output_type": "display_data"
    },
    {
     "data": {
      "text/plain": [
       "[<Concord 在車行裡研{究}飛行的機器>,\n",
       " <Concord ，跑去問個{究}竟。只見郭>,\n",
       " <Concord 了科學家研{究}發明的熱情>,\n",
       " <Concord 奇心，想探{究}天文地理的>,\n",
       " <Concord 上第一架研{究}地震的儀器>]"
      ]
     },
     "metadata": {},
     "output_type": "display_data"
    },
    {
     "data": {
      "text/plain": [
       "{'horz2': '⿰',\n",
       " 'vert2': '⿱',\n",
       " 'horz3': '⿲',\n",
       " 'vert3': '⿳',\n",
       " 'encl': '⿴',\n",
       " 'surN': '⿵',\n",
       " 'surU': '⿶',\n",
       " 'curC': '⿷',\n",
       " 'surT': '⿸',\n",
       " 'sur7': '⿹',\n",
       " 'surL': '⿺',\n",
       " 'over': '⿻'}"
      ]
     },
     "metadata": {},
     "output_type": "display_data"
    },
    {
     "data": {
      "text/plain": [
       "\"Top 5 results for characters with '木' component and 'horz2' ideographic description:\""
      ]
     },
     "metadata": {},
     "output_type": "display_data"
    },
    {
     "data": {
      "text/plain": [
       "[<Concord 握細緻的小{楷}筆,一筆一>,\n",
       " <Concord ，潔白的菜{梗}，翠綠的菜>,\n",
       " <Concord 詞（二）浮{槎}真個到天邊>,\n",
       " <Concord 仙境。「浮{槎}」是漂浮的>,\n",
       " <Concord 有人乘著浮{槎}在大海裡漂>]"
      ]
     },
     "metadata": {},
     "output_type": "display_data"
    }
   ],
   "source": [
    "# Display radicals\n",
    "display(\"List of all Kangxi radicals present in the characters of the corpus:\", c.chr_radicals)\n",
    "\n",
    "# Search by radical\n",
    "cql = \"\"\"\n",
    "[radical=\"穴\"]\n",
    "\"\"\"\n",
    "display(\"Top 5 results for characters containing the radical '穴':\", get_first_n(cql, 5))\n",
    "\n",
    "\n",
    "# Display Ideographic Description Characters (IDCs)\n",
    "display(c.chr_idcs)\n",
    "\n",
    "# Search using ideographic description and components\n",
    "cql = '''\n",
    "[compo=\"木\" & idc=\"horz2\"]\n",
    "'''\n",
    "display(\"Top 5 results for characters with '木' component and 'horz2' ideographic description:\", get_first_n(cql, 5))"
   ]
  },
  {
   "cell_type": "markdown",
   "metadata": {},
   "source": [
    "### Search by Radical Semantic Type"
   ]
  },
  {
   "cell_type": "code",
   "execution_count": 20,
   "metadata": {},
   "outputs": [
    {
     "data": {
      "text/plain": [
       "\"Top 5 characters tagged with the semantic type '植物' (plant):\""
      ]
     },
     "metadata": {},
     "output_type": "display_data"
    },
    {
     "data": {
      "text/plain": [
       "[<Concord 握細緻的小{楷筆},一筆一畫>,\n",
       " <Concord 年的歷史，{梁柱}雕刻很細緻>,\n",
       " <Concord 在二十世紀{萌芽}的新科技，>,\n",
       " <Concord 印象深刻。{花蓮}秀姑巒溪的>,\n",
       " <Concord 遠到宜蘭、{花蓮}，深入原住>]"
      ]
     },
     "metadata": {},
     "output_type": "display_data"
    }
   ],
   "source": [
    "cql = '''\n",
    "[semtag=\"植物\"] [semtag=\"植物\"]\n",
    "'''\n",
    "display(\"Top 5 characters tagged with the semantic type '植物' (plant):\", get_first_n(cql, 5))"
   ]
  },
  {
   "cell_type": "markdown",
   "metadata": {},
   "source": [
    "### Search by Phonetic Properties"
   ]
  },
  {
   "cell_type": "code",
   "execution_count": 21,
   "metadata": {},
   "outputs": [
    {
     "data": {
      "text/plain": [
       "'List of available phonetic properties in the corpus:'"
      ]
     },
     "metadata": {},
     "output_type": "display_data"
    },
    {
     "data": {
      "text/plain": [
       "{'moe': ['phon', 'tone', 'tp', 'sys=\"moe\"'],\n",
       " '廣韻': ['攝', '聲調', '韻母', '聲母', '開合', '等第', '反切', '拼音', 'IPA', 'sys=\"廣韻\"']}"
      ]
     },
     "metadata": {},
     "output_type": "display_data"
    },
    {
     "data": {
      "text/plain": [
       "\"Top 5 results for Mandarin phonetic property 'ㄨㄥ' with tone 1:\""
      ]
     },
     "metadata": {},
     "output_type": "display_data"
    },
    {
     "data": {
      "text/plain": [
       "[<Concord 前有一個富{翁}，很迷信。>,\n",
       " <Concord 起來。」富{翁}聽了，就叫>,\n",
       " <Concord 。他就對富{翁}說：「這棵>,\n",
       " <Concord 棵樹。」富{翁}聽了，覺得>,\n",
       " <Concord 有一天，富{翁}的朋友來，>]"
      ]
     },
     "metadata": {},
     "output_type": "display_data"
    },
    {
     "data": {
      "text/plain": [
       "\"Top 5 results for Middle Chinese phonetic property rhyme '東' with level tone (平):\""
      ]
     },
     "metadata": {},
     "output_type": "display_data"
    },
    {
     "data": {
      "text/plain": [
       "[<Concord 我要學給有{蟲}的樹治病，>,\n",
       " <Concord ，只剩竹節{蟲}與枯葉蝶，>,\n",
       " <Concord 驚嘆。竹節{蟲}與枯葉蝶就>,\n",
       " <Concord 眼前，竹節{蟲}和竹子的細>,\n",
       " <Concord 比賽，竹節{蟲}與枯葉蝶勝>]"
      ]
     },
     "metadata": {},
     "output_type": "display_data"
    }
   ],
   "source": [
    "# Display available phonetic properties\n",
    "display(\"List of available phonetic properties in the corpus:\", c.cql_attrs['CharPhonetic'])\n",
    "\n",
    "# Search by phonetic properties for Mandarin\n",
    "cql = '''\n",
    "[phon=\"ㄨㄥ\" & tone=\"1\" & sys=\"moe\"]\n",
    "'''\n",
    "display(\"Top 5 results for Mandarin phonetic property 'ㄨㄥ' with tone 1:\", get_first_n(cql, 5))\n",
    "\n",
    "# Search by phonetic properties for Middle Chinese\n",
    "cql = '''\n",
    "[韻母=\"東\" & 聲調=\"平\" & sys=\"廣韻\"]\n",
    "'''\n",
    "display(\"Top 5 results for Middle Chinese phonetic property rhyme '東' with level tone (平):\", get_first_n(cql, 5))"
   ]
  },
  {
   "cell_type": "markdown",
   "metadata": {},
   "source": [
    "### Component Analysis Initialization"
   ]
  },
  {
   "cell_type": "code",
   "execution_count": 22,
   "metadata": {},
   "outputs": [
    {
     "name": "stdout",
     "output_type": "stream",
     "text": [
      "Indexing corpus for text retrival...\n"
     ]
    },
    {
     "name": "stderr",
     "output_type": "stream",
     "text": [
      "100%|██████████| 8/8 [00:00<00:00, 49636.73it/s]\n"
     ]
    },
    {
     "name": "stdout",
     "output_type": "stream",
     "text": [
      "Indexing corpus for concordance search...\n"
     ]
    },
    {
     "name": "stderr",
     "output_type": "stream",
     "text": [
      "100%|██████████| 8/8 [00:00<00:00, 480.16it/s]\n"
     ]
    },
    {
     "name": "stdout",
     "output_type": "stream",
     "text": [
      "Indexing corpus for text retrival...\n"
     ]
    },
    {
     "name": "stderr",
     "output_type": "stream",
     "text": [
      "100%|██████████| 8/8 [00:00<00:00, 178481.02it/s]\n"
     ]
    },
    {
     "name": "stdout",
     "output_type": "stream",
     "text": [
      "Indexing corpus for concordance search...\n"
     ]
    },
    {
     "name": "stderr",
     "output_type": "stream",
     "text": [
      "100%|██████████| 8/8 [00:00<00:00, 653.87it/s]\n"
     ]
    }
   ],
   "source": [
    "from hgct import CompoAnalysis, PlainTextReader \n",
    "\n",
    "# Initialize CompoAnalysis without automatically loading data\n",
    "CA = CompoAnalysis(PlainTextReader(\"textbook_corpus/\", auto_load=False))\n",
    "\n",
    "# Initialize Concordancer for text searches\n",
    "CC = Concordancer(PlainTextReader(\"textbook_corpus/\").corpus)\n",
    "\n",
    "# Initialize Dispersion analysis tool\n",
    "DP = Dispersion(PlainTextReader(\"textbook_corpus/\").corpus)"
   ]
  },
  {
   "cell_type": "markdown",
   "metadata": {},
   "source": [
    "### Frequency Distribution by Character and Components"
   ]
  },
  {
   "cell_type": "code",
   "execution_count": 23,
   "metadata": {},
   "outputs": [
    {
     "data": {
      "text/plain": [
       "Counter({'王': 30,\n",
       "         '去': 27,\n",
       "         '走': 10,\n",
       "         '堅': 5,\n",
       "         '幸': 5,\n",
       "         '墓': 5,\n",
       "         '至': 4,\n",
       "         '壁': 4,\n",
       "         '堂': 3,\n",
       "         '主': 2,\n",
       "         '基': 2,\n",
       "         '赤': 1,\n",
       "         '堡': 1})"
      ]
     },
     "execution_count": 23,
     "metadata": {},
     "output_type": "execute_result"
    }
   ],
   "source": [
    "# Frequency distribution for characters in 5th grade fall textbook\n",
    "CA.freq_distr(tp=\"chr\", subcorp_idx=5).most_common(4)\n",
    "\n",
    "# Frequency distribution for IDCs, counting each type of character only once\n",
    "CA.freq_distr(tp=\"idc\", use_chr_types=True, subcorp_idx=5)\n",
    "\n",
    "# Frequency distribution for radicals in 5th grade fall textbook\n",
    "CA.freq_distr(tp=\"rad\", subcorp_idx=5).most_common(4)\n",
    "\n",
    "# Frequency distribution for characters containing the radical \"水\"\n",
    "CA.freq_distr(tp=None, radical=\"水\", subcorp_idx=5).most_common(4)\n",
    "\n",
    "# Frequency distribution for characters containing the IDC component \"土\" with vertical arrangement\n",
    "CA.freq_distr(tp=None, compo=\"土\", idc=\"vert2\", subcorp_idx=5)"
   ]
  },
  {
   "cell_type": "markdown",
   "metadata": {},
   "source": [
    "### Dispersion Analysis"
   ]
  },
  {
   "cell_type": "code",
   "execution_count": 24,
   "metadata": {},
   "outputs": [
    {
     "data": {
      "text/html": [
       "<div>\n",
       "<style scoped>\n",
       "    .dataframe tbody tr th:only-of-type {\n",
       "        vertical-align: middle;\n",
       "    }\n",
       "\n",
       "    .dataframe tbody tr th {\n",
       "        vertical-align: top;\n",
       "    }\n",
       "\n",
       "    .dataframe thead th {\n",
       "        text-align: right;\n",
       "    }\n",
       "</style>\n",
       "<table border=\"1\" class=\"dataframe\">\n",
       "  <thead>\n",
       "    <tr style=\"text-align: right;\">\n",
       "      <th></th>\n",
       "      <th>char</th>\n",
       "      <th>Range(%)</th>\n",
       "      <th>Range</th>\n",
       "      <th>DP</th>\n",
       "      <th>DPnorm</th>\n",
       "      <th>KLdivergence</th>\n",
       "      <th>JuillandD</th>\n",
       "      <th>RosengrenS</th>\n",
       "    </tr>\n",
       "  </thead>\n",
       "  <tbody>\n",
       "    <tr>\n",
       "      <th>0</th>\n",
       "      <td>的</td>\n",
       "      <td>100.00</td>\n",
       "      <td>9</td>\n",
       "      <td>0.179573</td>\n",
       "      <td>0.187460</td>\n",
       "      <td>0.126840</td>\n",
       "      <td>0.840689</td>\n",
       "      <td>0.955655</td>\n",
       "    </tr>\n",
       "    <tr>\n",
       "      <th>1</th>\n",
       "      <td>花</td>\n",
       "      <td>33.33</td>\n",
       "      <td>3</td>\n",
       "      <td>0.686952</td>\n",
       "      <td>0.717124</td>\n",
       "      <td>1.899763</td>\n",
       "      <td>0.384915</td>\n",
       "      <td>0.290457</td>\n",
       "    </tr>\n",
       "  </tbody>\n",
       "</table>\n",
       "</div>"
      ],
      "text/plain": [
       "  char Range(%)  Range        DP    DPnorm  KLdivergence  JuillandD  \\\n",
       "0    的   100.00      9  0.179573  0.187460      0.126840   0.840689   \n",
       "1    花    33.33      3  0.686952  0.717124      1.899763   0.384915   \n",
       "\n",
       "   RosengrenS  \n",
       "0    0.955655  \n",
       "1    0.290457  "
      ]
     },
     "execution_count": 24,
     "metadata": {},
     "output_type": "execute_result"
    }
   ],
   "source": [
    "import pandas as pd  \n",
    "\n",
    "# Analyzing dispersion of '的' (function word) and '花' (content word) in the corpus\n",
    "subcorp_idx = 0\n",
    "df_disp = []\n",
    "for ch in '的花':\n",
    "    stats, raw = DP.char_dispersion(\n",
    "        char=ch, subcorp_idx=subcorp_idx, return_raw=True\n",
    "    )\n",
    "    d = {\n",
    "        'char': ch,\n",
    "        'Range(%)': '{:.2f}'.format(100 * stats['Range'] / raw['n']),\n",
    "        **stats\n",
    "    }\n",
    "    df_disp.append(d)\n",
    "df_disp = pd.DataFrame(df_disp)\n",
    "df_disp"
   ]
  },
  {
   "cell_type": "markdown",
   "metadata": {},
   "source": [
    "### Ngram and Collocation Analysis"
   ]
  },
  {
   "cell_type": "code",
   "execution_count": 25,
   "metadata": {},
   "outputs": [
    {
     "name": "stdout",
     "output_type": "stream",
     "text": [
      "Counting 2-grams...\n"
     ]
    },
    {
     "name": "stderr",
     "output_type": "stream",
     "text": [
      "100%|██████████| 8/8 [00:00<00:00, 179.65it/s]\n"
     ]
    },
    {
     "data": {
      "text/html": [
       "<div>\n",
       "<style scoped>\n",
       "    .dataframe tbody tr th:only-of-type {\n",
       "        vertical-align: middle;\n",
       "    }\n",
       "\n",
       "    .dataframe tbody tr th {\n",
       "        vertical-align: top;\n",
       "    }\n",
       "\n",
       "    .dataframe thead th {\n",
       "        text-align: right;\n",
       "    }\n",
       "</style>\n",
       "<table border=\"1\" class=\"dataframe\">\n",
       "  <thead>\n",
       "    <tr style=\"text-align: right;\">\n",
       "      <th></th>\n",
       "      <th>bigram</th>\n",
       "      <th>MI</th>\n",
       "      <th>Xsq</th>\n",
       "      <th>Gsq</th>\n",
       "      <th>Dice</th>\n",
       "      <th>DeltaP21</th>\n",
       "      <th>DeltaP12</th>\n",
       "      <th>FisherExact</th>\n",
       "      <th>RawCount</th>\n",
       "    </tr>\n",
       "  </thead>\n",
       "  <tbody>\n",
       "    <tr>\n",
       "      <th>0</th>\n",
       "      <td>母親</td>\n",
       "      <td>8.254205</td>\n",
       "      <td>7934.804175</td>\n",
       "      <td>329.234999</td>\n",
       "      <td>0.928571</td>\n",
       "      <td>0.962636</td>\n",
       "      <td>0.896443</td>\n",
       "      <td>3.652867e-72</td>\n",
       "      <td>26</td>\n",
       "    </tr>\n",
       "    <tr>\n",
       "      <th>1</th>\n",
       "      <td>時候</td>\n",
       "      <td>7.674781</td>\n",
       "      <td>3871.332825</td>\n",
       "      <td>211.585884</td>\n",
       "      <td>0.593750</td>\n",
       "      <td>0.422222</td>\n",
       "      <td>0.997167</td>\n",
       "      <td>1.488648e-46</td>\n",
       "      <td>19</td>\n",
       "    </tr>\n",
       "    <tr>\n",
       "      <th>2</th>\n",
       "      <td>企鵝</td>\n",
       "      <td>9.466194</td>\n",
       "      <td>9195.000000</td>\n",
       "      <td>196.579722</td>\n",
       "      <td>1.000000</td>\n",
       "      <td>1.000000</td>\n",
       "      <td>1.000000</td>\n",
       "      <td>1.869793e-42</td>\n",
       "      <td>13</td>\n",
       "    </tr>\n",
       "    <tr>\n",
       "      <th>3</th>\n",
       "      <td>南極</td>\n",
       "      <td>8.435315</td>\n",
       "      <td>5531.921866</td>\n",
       "      <td>195.019226</td>\n",
       "      <td>0.761905</td>\n",
       "      <td>0.940196</td>\n",
       "      <td>0.639891</td>\n",
       "      <td>2.816916e-43</td>\n",
       "      <td>16</td>\n",
       "    </tr>\n",
       "    <tr>\n",
       "      <th>4</th>\n",
       "      <td>小昌</td>\n",
       "      <td>7.235897</td>\n",
       "      <td>2700.565276</td>\n",
       "      <td>186.452284</td>\n",
       "      <td>0.455696</td>\n",
       "      <td>0.295082</td>\n",
       "      <td>0.995314</td>\n",
       "      <td>3.869527e-41</td>\n",
       "      <td>18</td>\n",
       "    </tr>\n",
       "  </tbody>\n",
       "</table>\n",
       "</div>"
      ],
      "text/plain": [
       "  bigram        MI          Xsq         Gsq      Dice  DeltaP21  DeltaP12  \\\n",
       "0     母親  8.254205  7934.804175  329.234999  0.928571  0.962636  0.896443   \n",
       "1     時候  7.674781  3871.332825  211.585884  0.593750  0.422222  0.997167   \n",
       "2     企鵝  9.466194  9195.000000  196.579722  1.000000  1.000000  1.000000   \n",
       "3     南極  8.435315  5531.921866  195.019226  0.761905  0.940196  0.639891   \n",
       "4     小昌  7.235897  2700.565276  186.452284  0.455696  0.295082  0.995314   \n",
       "\n",
       "    FisherExact  RawCount  \n",
       "0  3.652867e-72        26  \n",
       "1  1.488648e-46        19  \n",
       "2  1.869793e-42        13  \n",
       "3  2.816916e-43        16  \n",
       "4  3.869527e-41        18  "
      ]
     },
     "execution_count": 25,
     "metadata": {},
     "output_type": "execute_result"
    }
   ],
   "source": [
    "# Frequency distribution of 2-gram ngrams in 5th grade fall textbook\n",
    "CC.freq_distr_ngrams(n=2, subcorp_idx=5).most_common(4)\n",
    "\n",
    "# Bigram associations sorted by G-squared statistic\n",
    "bi_asso = CC.bigram_associations(subcorp_idx=5, sort_by=\"Gsq\")\n",
    "bi_asso[0]\n",
    "\n",
    "# Dataframe of top 5 bigrams and their associated metrics\n",
    "d = pd.DataFrame([{'bigram': x[0], **x[1]} for x in bi_asso][:5])\n",
    "d"
   ]
  }
 ],
 "metadata": {
  "kernelspec": {
   "display_name": "myenv",
   "language": "python",
   "name": "python3"
  },
  "language_info": {
   "codemirror_mode": {
    "name": "ipython",
    "version": 3
   },
   "file_extension": ".py",
   "mimetype": "text/x-python",
   "name": "python",
   "nbconvert_exporter": "python",
   "pygments_lexer": "ipython3",
   "version": "3.10.11"
  }
 },
 "nbformat": 4,
 "nbformat_minor": 2
}
