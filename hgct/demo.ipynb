{
 "cells": [
  {
   "cell_type": "markdown",
   "metadata": {},
   "source": [
    "### Corpus Building"
   ]
  },
  {
   "cell_type": "code",
   "execution_count": 33,
   "metadata": {},
   "outputs": [],
   "source": [
    "from textbook import build_corpus\n",
    "\n",
    "# Path to the CSV file containing text data\n",
    "csv_file = './data/教科書課文.csv'\n",
    "\n",
    "# Name of the output folder\n",
    "folder = \"textbook_corpus\"\n",
    "\n",
    "# Building the corpus\n",
    "build_corpus(csv_file, folder)"
   ]
  },
  {
   "cell_type": "markdown",
   "metadata": {},
   "source": [
    "### Corpus Reading and Concordancer Initialization"
   ]
  },
  {
   "cell_type": "code",
   "execution_count": 34,
   "metadata": {},
   "outputs": [
    {
     "name": "stdout",
     "output_type": "stream",
     "text": [
      "Indexing corpus for text retrival...\n"
     ]
    },
    {
     "name": "stderr",
     "output_type": "stream",
     "text": [
      "100%|██████████| 8/8 [00:00<00:00, 170327.07it/s]\n"
     ]
    },
    {
     "name": "stdout",
     "output_type": "stream",
     "text": [
      "Indexing corpus for concordance search...\n"
     ]
    },
    {
     "name": "stderr",
     "output_type": "stream",
     "text": [
      "100%|██████████| 8/8 [00:00<00:00, 655.09it/s]\n"
     ]
    }
   ],
   "source": [
    "from hgct import PlainTextReader, Concordancer, CompoAnalysis, Dispersion\n",
    "\n",
    "# Initialize a PlainTextReader with the directory containing the corpus\n",
    "corpus = PlainTextReader(\n",
    "    dir_path = \"textbook_corpus/\"\n",
    "    ).corpus\n",
    "\n",
    "# Initialize a Concordancer with the corpus for performing text searches\n",
    "c = Concordancer(corpus)"
   ]
  },
  {
   "cell_type": "markdown",
   "metadata": {},
   "source": [
    "### Utility Function for CQL Search"
   ]
  },
  {
   "cell_type": "code",
   "execution_count": 35,
   "metadata": {},
   "outputs": [],
   "source": [
    "def get_first_n(cql, n=10, left=5, right=5):\n",
    "    out = []\n",
    "    for i, r in enumerate(c.cql_search(cql, left=left, right=right)):\n",
    "        if i == n: break\n",
    "        out.append(r)\n",
    "    return out"
   ]
  },
  {
   "cell_type": "markdown",
   "metadata": {},
   "source": [
    "### Search by Character"
   ]
  },
  {
   "cell_type": "code",
   "execution_count": 36,
   "metadata": {},
   "outputs": [
    {
     "name": "stdout",
     "output_type": "stream",
     "text": [
      "Top 5 results for the search query '[char=\"窗\"] [char=\"[一-窗]\"]': [<Concord 門、客廳和{窗戶}旁貼上年畫>, <Concord 水匠來，把{窗子}用甎頭堵上>, <Concord 子，就指著{窗子}說：「這兩>, <Concord 大門上、紙{窗旁}，幾乎都貼>, <Concord 要把這兩個{窗子}堵起來。」>]\n",
      "Relevant information of the matching result: {'left': '門、客廳和', 'keyword': '窗戶', 'right': '旁貼上年畫', 'position': (3, 11, 0, 25), 'meta': {'id': '4S/90-1-有趣的年畫.txt', 'time': {'label': '教科書課文 - 4下', 'ord': 4, 'year': ['90', '88', '69']}, 'text': {'lesson': '1', 'title': '有趣的年畫', 'year': '90'}}, 'captureGroups': {}}\n"
     ]
    }
   ],
   "source": [
    "cql = \"\"\"\n",
    "[char=\"窗\"] [char=\"[一-窗]\"] \n",
    "\"\"\"\n",
    "results = get_first_n(cql, n=5)\n",
    "print(\"Top 5 results for the search query '[char=\\\"窗\\\"] [char=\\\"[一-窗]\\\"]':\", results)  \n",
    "\n",
    "result_1 = results[0]\n",
    "print(\"Relevant information of the matching result:\", result_1.data)  "
   ]
  },
  {
   "cell_type": "markdown",
   "metadata": {},
   "source": [
    "### Search by Character Components"
   ]
  },
  {
   "cell_type": "code",
   "execution_count": 37,
   "metadata": {},
   "outputs": [
    {
     "name": "stdout",
     "output_type": "stream",
     "text": [
      "List of all Kangxi radicals present in the characters of the corpus: {'一', '自', '艸', '', '卩', '夕', '玄', '羽', '釆', '戶', '齊', '車', '衣', '勹', '黍', '匕', '氏', '子', '而', '龜', '刀', '革', '麥', '里', '臣', '疒', '鹿', '人', '舟', '行', '生', '禸', '毋', '米', '至', '凵', '方', '身', '爪', '尢', '丿', '气', '手', '牛', '土', '鼠', '牙', '赤', '厶', '高', '皮', '穴', '片', '糸', '示', '爿', '巛', '瓦', '鼎', '門', '羊', '矢', '尸', '乙', '斗', '馬', '艮', '厂', '十', '角', '邑', '聿', '斤', '山', '玉', '皿', '支', '言', '心', '龍', '髟', '父', '干', '匸', '魚', '缶', '豸', '豆', '比', '疋', '木', '酉', '風', '广', '長', '見', '骨', '雨', '黑', '冫', '甘', '弓', '血', '夊', '丶', '辰', '毛', '齒', '廾', '小', '爻', '黃', '石', '靑', '足', '虫', '肉', '口', '宀', '曰', '舛', '二', '鳥', '丨', '水', '隹', '冖', '寸', '无', '冂', '食', '目', '大', '欠', '犬', '火', '豕', '禾', '飛', '辵', '立', '田', '貝', '亅', '面', '囗', '廴', '麻', '戈', '首', '屮', '月', '车', '非', '耒', '力', '鼓', '网', '彳', '士', '入', '耳', '文', '香', '舌', '匚', '止', '竹', '用', '辛', '老', '谷', '殳', '鬼', '阜', '虍', '儿', '卜', '頁', '瓜', '又', '韋', '工', '八', '色', '女', '金', '己', '日', '走', '白', '音', '彡', '鬥', '矛', '亠', '攴', '巾', '臼', '襾', '歹', '癶', '几', '弋', '幺', '鼻'}\n",
      "Top 5 results for characters containing the radical '穴': [<Concord 開了兩個小{窗}子，就指著>, <Concord 子，就指著{窗}子說：「這>, <Concord ：「這兩個{窗}子開得很不>, <Concord 要把這兩個{窗}子堵起來。>, <Concord 水匠來，把{窗}子用甎頭堵>]\n",
      "{'horz2': '⿰', 'vert2': '⿱', 'horz3': '⿲', 'vert3': '⿳', 'encl': '⿴', 'surN': '⿵', 'surU': '⿶', 'curC': '⿷', 'surT': '⿸', 'sur7': '⿹', 'surL': '⿺', 'over': '⿻'}\n",
      "Top 5 results for characters with '木' component and 'horz2' ideographic description: [<Concord 大紅絲被繡{梅}花。媽媽從>, <Concord 著細雨,李{梅}樹走出三峽>, <Concord 定主意。李{梅}樹回想起小>, <Concord 熟慮後,李{梅}樹接受了這>, <Concord 間工藝,李{梅}樹找了不少>]\n"
     ]
    }
   ],
   "source": [
    "# Display radicals\n",
    "print(\"List of all Kangxi radicals present in the characters of the corpus:\", c.chr_radicals)\n",
    "\n",
    "# Search by radical\n",
    "cql = \"\"\"\n",
    "[radical=\"穴\"]\n",
    "\"\"\"\n",
    "print(\"Top 5 results for characters containing the radical '穴':\", get_first_n(cql, 5))\n",
    "\n",
    "\n",
    "# Display Ideographic Description Characters (IDCs)\n",
    "print(c.chr_idcs)\n",
    "\n",
    "# Search using ideographic description and components\n",
    "cql = '''\n",
    "[compo=\"木\" & idc=\"horz2\"]\n",
    "'''\n",
    "print(\"Top 5 results for characters with '木' component and 'horz2' ideographic description:\", get_first_n(cql, 5))"
   ]
  },
  {
   "cell_type": "markdown",
   "metadata": {},
   "source": [
    "### Search by Radical Semantic Type"
   ]
  },
  {
   "cell_type": "code",
   "execution_count": 38,
   "metadata": {},
   "outputs": [
    {
     "name": "stdout",
     "output_type": "stream",
     "text": [
      "Top 5 characters tagged with the semantic type '植物' (plant): [<Concord 的土地，一{朵朵}野菇像一把>, <Concord 這樣的：一{朵芙}蓉頭上戴，>, <Concord 見,只見一{朵朵}梅花般的腳>, <Concord ,只見一朵{朵梅}花般的腳掌>, <Concord 大紅絲被繡{梅花}。媽媽從早>]\n"
     ]
    }
   ],
   "source": [
    "cql = '''\n",
    "[semtag=\"植物\"] [semtag=\"植物\"]\n",
    "'''\n",
    "print(\"Top 5 characters tagged with the semantic type '植物' (plant):\", get_first_n(cql, 5))"
   ]
  },
  {
   "cell_type": "markdown",
   "metadata": {},
   "source": [
    "### Search by Phonetic Properties"
   ]
  },
  {
   "cell_type": "code",
   "execution_count": 39,
   "metadata": {},
   "outputs": [
    {
     "name": "stdout",
     "output_type": "stream",
     "text": [
      "List of available phonetic properties in the corpus: {'moe': ['phon', 'tone', 'tp', 'sys=\"moe\"'], '廣韻': ['攝', '聲調', '韻母', '聲母', '開合', '等第', '反切', '拼音', 'IPA', 'sys=\"廣韻\"']}\n",
      "Top 5 results for Mandarin phonetic property 'ㄨㄥ' with tone 1: [<Concord 前有一個富{翁}，很迷信。>, <Concord 起來。」富{翁}聽了，就叫>, <Concord 。他就對富{翁}說：「這棵>, <Concord 棵樹。」富{翁}聽了，覺得>, <Concord 有一天，富{翁}的朋友來，>]\n",
      "Top 5 results for Middle Chinese phonetic property rhyme '東' with level tone (平): [<Concord 熄滅，反而{烘}烘騰起，越>, <Concord 滅，反而烘{烘}騰起，越搧>, <Concord 快，卻已經{烘}托出船隻的>, <Concord 灣特有的萍{蓬}草，開起嬌>, <Concord 在網際網路{蓬}勃發展的過>]\n"
     ]
    }
   ],
   "source": [
    "# Display available phonetic properties\n",
    "print(\"List of available phonetic properties in the corpus:\", c.cql_attrs['CharPhonetic'])\n",
    "\n",
    "# Search by phonetic properties for Mandarin\n",
    "cql = '''\n",
    "[phon=\"ㄨㄥ\" & tone=\"1\" & sys=\"moe\"]\n",
    "'''\n",
    "print(\"Top 5 results for Mandarin phonetic property 'ㄨㄥ' with tone 1:\", get_first_n(cql, 5))\n",
    "\n",
    "# Search by phonetic properties for Middle Chinese\n",
    "cql = '''\n",
    "[韻母=\"東\" & 聲調=\"平\" & sys=\"廣韻\"]\n",
    "'''\n",
    "print(\"Top 5 results for Middle Chinese phonetic property rhyme '東' with level tone (平):\", get_first_n(cql, 5))"
   ]
  },
  {
   "cell_type": "markdown",
   "metadata": {},
   "source": [
    "### Component Analysis Initialization"
   ]
  },
  {
   "cell_type": "code",
   "execution_count": 40,
   "metadata": {},
   "outputs": [
    {
     "name": "stdout",
     "output_type": "stream",
     "text": [
      "Indexing corpus for text retrival...\n"
     ]
    },
    {
     "name": "stderr",
     "output_type": "stream",
     "text": [
      "100%|██████████| 8/8 [00:00<00:00, 140395.11it/s]\n"
     ]
    },
    {
     "name": "stdout",
     "output_type": "stream",
     "text": [
      "Indexing corpus for concordance search...\n"
     ]
    },
    {
     "name": "stderr",
     "output_type": "stream",
     "text": [
      "100%|██████████| 8/8 [00:00<00:00, 659.52it/s]\n"
     ]
    },
    {
     "name": "stdout",
     "output_type": "stream",
     "text": [
      "Indexing corpus for text retrival...\n"
     ]
    },
    {
     "name": "stderr",
     "output_type": "stream",
     "text": [
      "100%|██████████| 8/8 [00:00<00:00, 145257.28it/s]\n"
     ]
    },
    {
     "name": "stdout",
     "output_type": "stream",
     "text": [
      "Indexing corpus for concordance search...\n"
     ]
    },
    {
     "name": "stderr",
     "output_type": "stream",
     "text": [
      "100%|██████████| 8/8 [00:00<00:00, 672.95it/s]\n"
     ]
    }
   ],
   "source": [
    "from hgct import CompoAnalysis, PlainTextReader \n",
    "\n",
    "# Initialize CompoAnalysis without automatically loading data\n",
    "CA = CompoAnalysis(PlainTextReader(\"textbook_corpus/\", auto_load=False))\n",
    "\n",
    "# Initialize Concordancer for text searches\n",
    "CC = Concordancer(PlainTextReader(\"textbook_corpus/\").corpus)\n",
    "\n",
    "# Initialize Dispersion analysis tool\n",
    "DP = Dispersion(PlainTextReader(\"textbook_corpus/\").corpus)"
   ]
  },
  {
   "cell_type": "markdown",
   "metadata": {},
   "source": [
    "### Frequency Distribution by Character and Components"
   ]
  },
  {
   "cell_type": "code",
   "execution_count": 41,
   "metadata": {},
   "outputs": [
    {
     "data": {
      "text/plain": [
       "Counter({'王': 30,\n",
       "         '去': 27,\n",
       "         '走': 10,\n",
       "         '堅': 5,\n",
       "         '幸': 5,\n",
       "         '墓': 5,\n",
       "         '至': 4,\n",
       "         '壁': 4,\n",
       "         '堂': 3,\n",
       "         '主': 2,\n",
       "         '基': 2,\n",
       "         '赤': 1,\n",
       "         '堡': 1})"
      ]
     },
     "execution_count": 41,
     "metadata": {},
     "output_type": "execute_result"
    }
   ],
   "source": [
    "# Frequency distribution for characters in 5th grade fall textbook\n",
    "CA.freq_distr(tp=\"chr\", subcorp_idx=5).most_common(4)\n",
    "\n",
    "# Frequency distribution for IDCs, counting each type of character only once\n",
    "CA.freq_distr(tp=\"idc\", use_chr_types=True, subcorp_idx=5)\n",
    "\n",
    "# Frequency distribution for radicals in 5th grade fall textbook\n",
    "CA.freq_distr(tp=\"rad\", subcorp_idx=5).most_common(4)\n",
    "\n",
    "# Frequency distribution for characters containing the radical \"水\"\n",
    "CA.freq_distr(tp=None, radical=\"水\", subcorp_idx=5).most_common(4)\n",
    "\n",
    "# Frequency distribution for characters containing the IDC component \"土\" with vertical arrangement\n",
    "CA.freq_distr(tp=None, compo=\"土\", idc=\"vert2\", subcorp_idx=5)"
   ]
  },
  {
   "cell_type": "markdown",
   "metadata": {},
   "source": [
    "### Dispersion Analysis"
   ]
  },
  {
   "cell_type": "code",
   "execution_count": 42,
   "metadata": {},
   "outputs": [
    {
     "data": {
      "text/html": [
       "<div>\n",
       "<style scoped>\n",
       "    .dataframe tbody tr th:only-of-type {\n",
       "        vertical-align: middle;\n",
       "    }\n",
       "\n",
       "    .dataframe tbody tr th {\n",
       "        vertical-align: top;\n",
       "    }\n",
       "\n",
       "    .dataframe thead th {\n",
       "        text-align: right;\n",
       "    }\n",
       "</style>\n",
       "<table border=\"1\" class=\"dataframe\">\n",
       "  <thead>\n",
       "    <tr style=\"text-align: right;\">\n",
       "      <th></th>\n",
       "      <th>char</th>\n",
       "      <th>Range(%)</th>\n",
       "      <th>Range</th>\n",
       "      <th>DP</th>\n",
       "      <th>DPnorm</th>\n",
       "      <th>KLdivergence</th>\n",
       "      <th>JuillandD</th>\n",
       "      <th>RosengrenS</th>\n",
       "    </tr>\n",
       "  </thead>\n",
       "  <tbody>\n",
       "    <tr>\n",
       "      <th>0</th>\n",
       "      <td>的</td>\n",
       "      <td>100.00</td>\n",
       "      <td>9</td>\n",
       "      <td>0.179573</td>\n",
       "      <td>0.187460</td>\n",
       "      <td>0.126840</td>\n",
       "      <td>0.840689</td>\n",
       "      <td>0.955655</td>\n",
       "    </tr>\n",
       "    <tr>\n",
       "      <th>1</th>\n",
       "      <td>花</td>\n",
       "      <td>33.33</td>\n",
       "      <td>3</td>\n",
       "      <td>0.686952</td>\n",
       "      <td>0.717124</td>\n",
       "      <td>1.899763</td>\n",
       "      <td>0.384915</td>\n",
       "      <td>0.290457</td>\n",
       "    </tr>\n",
       "  </tbody>\n",
       "</table>\n",
       "</div>"
      ],
      "text/plain": [
       "  char Range(%)  Range        DP    DPnorm  KLdivergence  JuillandD  \\\n",
       "0    的   100.00      9  0.179573  0.187460      0.126840   0.840689   \n",
       "1    花    33.33      3  0.686952  0.717124      1.899763   0.384915   \n",
       "\n",
       "   RosengrenS  \n",
       "0    0.955655  \n",
       "1    0.290457  "
      ]
     },
     "execution_count": 42,
     "metadata": {},
     "output_type": "execute_result"
    }
   ],
   "source": [
    "import pandas as pd  \n",
    "\n",
    "# Analyzing dispersion of '的' (function word) and '花' (content word) in the corpus\n",
    "subcorp_idx = 0\n",
    "df_disp = []\n",
    "for ch in '的花':\n",
    "    stats, raw = DP.char_dispersion(\n",
    "        char=ch, subcorp_idx=subcorp_idx, return_raw=True\n",
    "    )\n",
    "    d = {\n",
    "        'char': ch,\n",
    "        'Range(%)': '{:.2f}'.format(100 * stats['Range'] / raw['n']),\n",
    "        **stats\n",
    "    }\n",
    "    df_disp.append(d)\n",
    "df_disp = pd.DataFrame(df_disp)\n",
    "df_disp"
   ]
  },
  {
   "cell_type": "markdown",
   "metadata": {},
   "source": [
    "### Ngram and Collocation Analysis"
   ]
  },
  {
   "cell_type": "code",
   "execution_count": 43,
   "metadata": {},
   "outputs": [
    {
     "name": "stdout",
     "output_type": "stream",
     "text": [
      "Counting 2-grams...\n"
     ]
    },
    {
     "name": "stderr",
     "output_type": "stream",
     "text": [
      "100%|██████████| 8/8 [00:00<00:00, 178.68it/s]\n"
     ]
    },
    {
     "data": {
      "text/html": [
       "<div>\n",
       "<style scoped>\n",
       "    .dataframe tbody tr th:only-of-type {\n",
       "        vertical-align: middle;\n",
       "    }\n",
       "\n",
       "    .dataframe tbody tr th {\n",
       "        vertical-align: top;\n",
       "    }\n",
       "\n",
       "    .dataframe thead th {\n",
       "        text-align: right;\n",
       "    }\n",
       "</style>\n",
       "<table border=\"1\" class=\"dataframe\">\n",
       "  <thead>\n",
       "    <tr style=\"text-align: right;\">\n",
       "      <th></th>\n",
       "      <th>bigram</th>\n",
       "      <th>MI</th>\n",
       "      <th>Xsq</th>\n",
       "      <th>Gsq</th>\n",
       "      <th>Dice</th>\n",
       "      <th>DeltaP21</th>\n",
       "      <th>DeltaP12</th>\n",
       "      <th>FisherExact</th>\n",
       "      <th>RawCount</th>\n",
       "    </tr>\n",
       "  </thead>\n",
       "  <tbody>\n",
       "    <tr>\n",
       "      <th>0</th>\n",
       "      <td>母親</td>\n",
       "      <td>8.254205</td>\n",
       "      <td>7934.804175</td>\n",
       "      <td>329.234999</td>\n",
       "      <td>0.928571</td>\n",
       "      <td>0.962636</td>\n",
       "      <td>0.896443</td>\n",
       "      <td>3.652867e-72</td>\n",
       "      <td>26</td>\n",
       "    </tr>\n",
       "    <tr>\n",
       "      <th>1</th>\n",
       "      <td>時候</td>\n",
       "      <td>7.674781</td>\n",
       "      <td>3871.332825</td>\n",
       "      <td>211.585884</td>\n",
       "      <td>0.593750</td>\n",
       "      <td>0.422222</td>\n",
       "      <td>0.997167</td>\n",
       "      <td>1.488648e-46</td>\n",
       "      <td>19</td>\n",
       "    </tr>\n",
       "    <tr>\n",
       "      <th>2</th>\n",
       "      <td>企鵝</td>\n",
       "      <td>9.466194</td>\n",
       "      <td>9195.000000</td>\n",
       "      <td>196.579722</td>\n",
       "      <td>1.000000</td>\n",
       "      <td>1.000000</td>\n",
       "      <td>1.000000</td>\n",
       "      <td>1.869793e-42</td>\n",
       "      <td>13</td>\n",
       "    </tr>\n",
       "    <tr>\n",
       "      <th>3</th>\n",
       "      <td>南極</td>\n",
       "      <td>8.435315</td>\n",
       "      <td>5531.921866</td>\n",
       "      <td>195.019226</td>\n",
       "      <td>0.761905</td>\n",
       "      <td>0.940196</td>\n",
       "      <td>0.639891</td>\n",
       "      <td>2.816916e-43</td>\n",
       "      <td>16</td>\n",
       "    </tr>\n",
       "    <tr>\n",
       "      <th>4</th>\n",
       "      <td>小昌</td>\n",
       "      <td>7.235897</td>\n",
       "      <td>2700.565276</td>\n",
       "      <td>186.452284</td>\n",
       "      <td>0.455696</td>\n",
       "      <td>0.295082</td>\n",
       "      <td>0.995314</td>\n",
       "      <td>3.869527e-41</td>\n",
       "      <td>18</td>\n",
       "    </tr>\n",
       "  </tbody>\n",
       "</table>\n",
       "</div>"
      ],
      "text/plain": [
       "  bigram        MI          Xsq         Gsq      Dice  DeltaP21  DeltaP12  \\\n",
       "0     母親  8.254205  7934.804175  329.234999  0.928571  0.962636  0.896443   \n",
       "1     時候  7.674781  3871.332825  211.585884  0.593750  0.422222  0.997167   \n",
       "2     企鵝  9.466194  9195.000000  196.579722  1.000000  1.000000  1.000000   \n",
       "3     南極  8.435315  5531.921866  195.019226  0.761905  0.940196  0.639891   \n",
       "4     小昌  7.235897  2700.565276  186.452284  0.455696  0.295082  0.995314   \n",
       "\n",
       "    FisherExact  RawCount  \n",
       "0  3.652867e-72        26  \n",
       "1  1.488648e-46        19  \n",
       "2  1.869793e-42        13  \n",
       "3  2.816916e-43        16  \n",
       "4  3.869527e-41        18  "
      ]
     },
     "execution_count": 43,
     "metadata": {},
     "output_type": "execute_result"
    }
   ],
   "source": [
    "# Frequency distribution of 2-gram ngrams in 5th grade fall textbook\n",
    "CC.freq_distr_ngrams(n=2, subcorp_idx=5).most_common(4)\n",
    "\n",
    "# Bigram associations sorted by G-squared statistic\n",
    "bi_asso = CC.bigram_associations(subcorp_idx=5, sort_by=\"Gsq\")\n",
    "bi_asso[0]\n",
    "\n",
    "# Dataframe of top 5 bigrams and their associated metrics\n",
    "d = pd.DataFrame([{'bigram': x[0], **x[1]} for x in bi_asso][:5])\n",
    "d"
   ]
  }
 ],
 "metadata": {
  "kernelspec": {
   "display_name": "myenv",
   "language": "python",
   "name": "python3"
  },
  "language_info": {
   "codemirror_mode": {
    "name": "ipython",
    "version": 3
   },
   "file_extension": ".py",
   "mimetype": "text/x-python",
   "name": "python",
   "nbconvert_exporter": "python",
   "pygments_lexer": "ipython3",
   "version": "3.10.11"
  }
 },
 "nbformat": 4,
 "nbformat_minor": 2
}
